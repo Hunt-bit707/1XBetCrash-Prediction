{
  "cells": [
    {
      "cell_type": "markdown",
      "metadata": {
        "id": "view-in-github",
        "colab_type": "text"
      },
      "source": [
        "<a href=\"https://colab.research.google.com/github/Hunt-bit707/1XBetCrash-Prediction/blob/master/CamXploit.ipynb\" target=\"_parent\"><img src=\"https://colab.research.google.com/assets/colab-badge.svg\" alt=\"Open In Colab\"/></a>"
      ]
    },
    {
      "cell_type": "markdown",
      "metadata": {
        "id": "LFaRgClDgDHq"
      },
      "source": [
        "# 🎥 CamXploit - Exposed CCTV Camera Recon Tool\n",
        "\n",
        "**Install and use CamXploit right here in Colab or Jupyter.**\n",
        "\n",
        "CamXploit scans, detects, and analyzes exposed IP cameras: common ports, login pages, default credentials, brand/vuln ID, live streams, & more.\n",
        "\n",
        "_⚠️ Educational use only! Do not scan devices you do not own or have explicit permission to test._"
      ]
    },
    {
      "cell_type": "code",
      "execution_count": 1,
      "metadata": {
        "id": "EMDVTN1jgDH8",
        "outputId": "047ba237-ffcd-4d8e-f164-311b131bfda0",
        "colab": {
          "base_uri": "https://localhost:8080/"
        }
      },
      "outputs": [
        {
          "output_type": "stream",
          "name": "stdout",
          "text": [
            "fatal: destination path 'CamXploit' already exists and is not an empty directory.\n",
            "/content/CamXploit\n",
            "Requirement already satisfied: requests in /usr/local/lib/python3.12/dist-packages (from -r requirements.txt (line 1)) (2.32.4)\n",
            "Requirement already satisfied: ipaddress in /usr/local/lib/python3.12/dist-packages (from -r requirements.txt (line 2)) (1.0.23)\n",
            "Requirement already satisfied: charset_normalizer<4,>=2 in /usr/local/lib/python3.12/dist-packages (from requests->-r requirements.txt (line 1)) (3.4.3)\n",
            "Requirement already satisfied: idna<4,>=2.5 in /usr/local/lib/python3.12/dist-packages (from requests->-r requirements.txt (line 1)) (3.10)\n",
            "Requirement already satisfied: urllib3<3,>=1.21.1 in /usr/local/lib/python3.12/dist-packages (from requests->-r requirements.txt (line 1)) (2.5.0)\n",
            "Requirement already satisfied: certifi>=2017.4.17 in /usr/local/lib/python3.12/dist-packages (from requests->-r requirements.txt (line 1)) (2025.8.3)\n"
          ]
        }
      ],
      "source": [
        "# 📦 Clone the repo and install dependencies\n",
        "!git clone https://github.com/spyboy-productions/CamXploit.git\n",
        "%cd CamXploit\n",
        "!pip install -r requirements.txt"
      ]
    },
    {
      "cell_type": "markdown",
      "metadata": {
        "id": "Fivm-X5KgDID"
      },
      "source": [
        "## ✅ Example Usage"
      ]
    },
    {
      "cell_type": "code",
      "execution_count": null,
      "metadata": {
        "id": "VzKE2eyGgDIG",
        "outputId": "e5b982eb-685e-43ec-a6a2-fc4e5092c1d7",
        "colab": {
          "base_uri": "https://localhost:8080/"
        }
      },
      "outputs": [
        {
          "output_type": "stream",
          "name": "stdout",
          "text": [
            "\u001b[32m[+] \u001b[36mEnter IP address: \u001b[0m"
          ]
        }
      ],
      "source": [
        "# 🔍 Scan a public IP for exposed CCTV cameras (replace with your target IP)\n",
        "!python3 CamXploit.py"
      ]
    },
    {
      "cell_type": "markdown",
      "metadata": {
        "id": "SYP7Y4aIgDIH"
      },
      "source": [
        "You will be prompted for an IP. **Enter the IP address you want to scan.**\n",
        "\n",
        "> _Again: Only scan devices you have explicit authorization to test._"
      ]
    }
  ],
  "metadata": {
    "colab": {
      "provenance": [],
      "include_colab_link": true
    },
    "kernelspec": {
      "display_name": "Python 3",
      "language": "python",
      "name": "python3"
    },
    "language_info": {
      "name": "python"
    }
  },
  "nbformat": 4,
  "nbformat_minor": 0
}